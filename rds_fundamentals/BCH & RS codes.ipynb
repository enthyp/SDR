{
 "cells": [
  {
   "cell_type": "code",
   "execution_count": 3,
   "id": "8a671c81-3369-4242-acf1-7910bc40031e",
   "metadata": {},
   "outputs": [],
   "source": [
    "from functools import reduce\n",
    "from ff import base_repr, ff_for_prime, ff_for_primitive_polynomial, mult_poly"
   ]
  },
  {
   "cell_type": "markdown",
   "id": "4656e964-9917-4b81-818e-7a8fd96b69fa",
   "metadata": {},
   "source": [
    "# BCH codes\n",
    "### Motivation\n",
    "We start with generalized Hamming codes - $(n = 2^m - 1, k = 2^m - m - 1)$ linear codes that can correct single errors. Steps:\n",
    " 1. Take the parity-check matrix - its $n$ columns are all the non-zero elements of $V_m = GF(2)^m$ vector space in arbitrary order.\n",
    " 2. We have $n$ possible locations of a single error, so we need syndromes with $m$ positions to identify each of them. If we want to identiy locations of two errors, then intuitively we'll need 2x as many parity-check rows - the former $m$ rows identify the one error, the latter $m$ rows identiy the other error.\n",
    " 3. Since the 1st halves of parity-check matrix columns are unique, we can look at the second halves as values of a function $f: V_m \\rightarrow V_m$ on the first halves.\n",
    " 4. Now we just need to choose the function so that for any 2-position error vector we have a unique syndrome - then we can identify and correct the errors. But the syndromes are combinations of parity-check matrix columns! We arrive at a system of equations:\n",
    "$$\n",
    "\\begin{align}\n",
    " u + v = s_1 \\\\\n",
    " f(u) + f(v) = s_2\n",
    "\\end{align}\n",
    "$$\n",
    "for all $u, v, s_1, s_2 \\in GF(2^m)$ that is supposed to have at most one solution $u, v$. The most simple such function is $f(x) = x^3$.\n",
    "\n",
    "It's parity-check matrix is\n",
    "$$\n",
    "H_2 = \\begin{bmatrix}\n",
    " \\alpha_0 && ... && \\alpha_{n - 1} \\\\\n",
    " \\alpha_0^3 && ... && \\alpha_{n - 1}^3\n",
    "\\end{bmatrix}\n",
    "$$\n",
    "where $\\alpha_0, ..., \\alpha_{n-1}$ is any ordering of the $GF(2^m)$ field's non-zero elements. It has $2m$ rows as elements in $GF(2)$, so the dimension of the rowspace is $\\leq 2m$, hence code dimension (length of the information word) is $\\geq n - 2m$.\n",
    "\n",
    "### Generalization\n",
    "(theorem 9.1)\n",
    "\n",
    "If we choose $n = 2^m$ - length of the codeword, and $t \\leq \\lfloor \\frac{n - 1}{2} \\rfloor$ - max number of errors to be corrected, then the $t \\ x \\ n$ matrix\n",
    "$$\n",
    "H_t = \\begin{bmatrix}\n",
    " \\alpha_0 && ... && \\alpha_{n - 1} \\\\\n",
    " \\alpha_0^3 && ... && \\alpha_{n - 1}^3 \\\\\n",
    " && ... && \\\\\n",
    " \\alpha_0^{2t - 1} && ... && \\alpha_{n - 1}^{2t - 1}\n",
    "\\end{bmatrix}\n",
    "$$\n",
    "\n",
    "is the parity-check matrix of an $(n, k)$ code that can correct all error patterns of weight $\\leq t$ and $k \\geq n - tm$. These codes are called **BCH codes**.\n",
    "\n",
    "### Cyclic BCH codes\n",
    "BCH codes can be made cyclic by using $\\alpha_0 = 1, \\alpha_1 = \\alpha ..., \\alpha_{n - 1} = \\alpha^{n-1}$, where $\\alpha$ is the generator of non-zero elements of the $GF(2^m)$ field. Then we get nice encoders using shift registers for free. Decoding still needs more machinery to be developed since we've only seen burst error correction decoders so far and these codes are supposed to correct ANY error pattern of weight $\\leq t$.\n",
    "\n",
    "### Cyclic BCH code generator polynomial\n",
    "From the form of $H_t$ it follows, that all the codewords (seen as polynomials $C_0 + ... + C_{n - 1} x^{n - 1}$ over $GF(2)$) satisfy $C(\\alpha^i) = 0, \\ i = 1, ..., 2t - 1$. The generator polynomial is the lowest degree monic polynomial that also satisfies this condition, so it's the minimal polynomial of the set $\\{ \\alpha, ..., \\alpha^{2t - 1} \\}$. Reasoning from the Appendix C shows that it will be a product of binomials with **conjugates** of these elements as roots. \n",
    "\n",
    "Phew, that's a mouthful - an example is needed!\n",
    "\n",
    "### BCH generator polynomial example\n",
    "Let's start by building a generator polynomial for BCH with given properties.\n",
    "\n",
    "Following section 9.2 we know that for codeword length $n = 15$, correction of up to $t = 3$ errors the generator polynomial is going to be a product of minimal polynomials for $\\alpha$, $\\alpha^3$ and $\\alpha^5$ (up to power of $5 = 2 t - 1$), where $\\alpha$ is the primitive root of GF(16). Hence it's going to be the product of all binomials with roots being conjugate to these three, i.e. $\\{\\alpha, \\alpha^2, \\alpha^3, \\alpha^4, \\alpha^5, \\alpha^6, \\alpha^8, \\alpha^9, \\alpha^{10}, \\alpha^{12}\\}$.\n",
    "\n",
    "According to the book the result is $g(x) = 1 + x + x^2 + x^4 + x^5 + x^8 + x^{10}$, let's see."
   ]
  },
  {
   "cell_type": "code",
   "execution_count": 4,
   "id": "06b08d3c-aa6f-4aae-bb00-ed54981e590c",
   "metadata": {},
   "outputs": [],
   "source": [
    "f_2 = ff_for_prime(2)\n",
    "f_16_prim_pow = ff_for_primitive_polynomial(2, f_2, [1, 1, 0, 0, 1])\n",
    "\n",
    "poly = [1]\n",
    "for power in [1, 2, 3, 4, 5, 6, 8, 9, 10, 12]:\n",
    "    # multiply by x - alpha^power\n",
    "    poly = mult_poly(poly, [f_16_prim_pow.add_inv(f_16_prim_pow.power_to_num[power]), 1], f_16_prim_pow)\n",
    "\n",
    "assert poly == [1, 1, 1, 0, 1, 1, 0, 0, 1, 0, 1]"
   ]
  },
  {
   "cell_type": "markdown",
   "id": "f37b02e8-73bd-4556-8800-4945abf973b5",
   "metadata": {},
   "source": [
    "Hell yeah, good to confirm again that field operations work fine!\n",
    "\n",
    "So if we just implement finding conjugates for given powers of primitive element (which is simple), then we can automatically derive BCH generator polynomials for given code parameters $n, \\ t$. At the moment, based on such polynomials we can at least implement encoding by generating appropriate generator matrix for cyclic code (or using shift registers)."
   ]
  },
  {
   "cell_type": "markdown",
   "id": "41f3c52d-2345-4b23-892d-07caaf6a22e4",
   "metadata": {},
   "source": [
    "### BCH generator polynomial automated derivation\n",
    "Given a finite field $F_{p^m}$ and its element $a$, **conjugates** of $a$ are the unique elements of the sequence $a, a^p, ..., a^{p^{k - 1}}$ and their number $k$ is called the degree of $a$. $a$ belongs to the subfield $F_{p^k}$ but no smaller subfield."
   ]
  },
  {
   "cell_type": "code",
   "execution_count": 5,
   "id": "682a25f5-178e-462d-9f0c-ab4a089f0448",
   "metadata": {},
   "outputs": [],
   "source": [
    "# find conjugates of alpha in F_{p^m} where p is the characteristic of the field\n",
    "def conjugates(alpha, p, field):\n",
    "    result = [alpha]\n",
    "    alpha_p = reduce(lambda x, y: field.mult(x, y), [alpha] * p)  # alpha^p\n",
    "    alpha_pow = alpha_p\n",
    "\n",
    "    while alpha_pow != alpha:\n",
    "        result.append(alpha_pow)\n",
    "        alpha_pow = field.pow(alpha_pow, p)\n",
    "    \n",
    "    return set(result)\n",
    "\n",
    "# according to the example, the conjugates of alpha are [alpha, alpha^2, alpha^4, alpha^8] and conjugates of alpha^3 are [alpha^3, alpha^6, alpha^12, alpha^9]\n",
    "expected = {f_16_prim_pow.power_to_num[p] for p in [1, 2, 4, 8]}\n",
    "assert conjugates(f_16_prim_pow.power_to_num[1], 2, f_16_prim_pow) == expected\n",
    "\n",
    "expected_3 = {f_16_prim_pow.power_to_num[p] for p in [3, 6, 12, 9]}\n",
    "assert conjugates(f_16_prim_pow.power_to_num[3], 2, f_16_prim_pow) == expected_3"
   ]
  },
  {
   "cell_type": "code",
   "execution_count": 6,
   "id": "85d0db9d-ee09-4b81-a553-e630fcce4f41",
   "metadata": {},
   "outputs": [],
   "source": [
    "# p: the field characteristic\n",
    "# field: GF(p^m)\n",
    "# alpha: field primitive root\n",
    "# t: max number of errors our code is able to correct\n",
    "def bch_generator_polynomial(p, m, field, alpha, t):\n",
    "    assert t <= (p ** m - 1) / 2\n",
    "\n",
    "    # generate polynomial roots alpha, ..., alpha^{2t - 1]\n",
    "    alpha_2 = field.pow(alpha, 2)\n",
    "    next_root = alpha\n",
    "    base_roots = []\n",
    "    \n",
    "    for _ in range(1, 2 * t + 1, 2):\n",
    "        base_roots.append(next_root)\n",
    "        next_root = field.mult(next_root, alpha_2)\n",
    "\n",
    "    # find conjugates of the roots\n",
    "    conjugate_sets = [conjugates(root, p, field) for root in base_roots]\n",
    "    conjugates_final_set = reduce(lambda x, y: x | y, conjugate_sets)\n",
    "\n",
    "    gen_poly = [1]\n",
    "    for c in conjugates_final_set:\n",
    "        gen_poly = mult_poly(gen_poly, [field.add_inv(c), 1], field)  # multiply all (x - conjugate) binomials\n",
    "\n",
    "    return gen_poly"
   ]
  },
  {
   "cell_type": "code",
   "execution_count": 7,
   "id": "bb5648ff-3f25-4200-b7d1-9fc90c15432a",
   "metadata": {},
   "outputs": [],
   "source": [
    "assert bch_generator_polynomial(p=2, m=4, field=f_16_prim_pow, alpha=f_16_prim_pow.power_to_num[1], t=3) == [1, 1, 1, 0, 1, 1, 0, 0, 1, 0, 1]"
   ]
  },
  {
   "cell_type": "markdown",
   "id": "42602365-a832-4d14-8721-5ad4dc9ff0df",
   "metadata": {},
   "source": [
    "Hell yeah! So we can automatically generate generator polynomials for BCH codes of selected properties!"
   ]
  },
  {
   "cell_type": "markdown",
   "id": "a94e025f-ec52-4029-a585-11e3365409d3",
   "metadata": {},
   "source": [
    "# Decoding BCH codes\n",
    "Well, of all the stuff related to finite fields, to linear and cyclic codes - this is the pinnacle. There is just so much crazy machinery that jumps out of nowhere, like discrete Fourier transforms on vectors over a Galois field - how did they come up with that?? Or *the key equation* that magically can be solved for the *error-locator* and *error-evaluator* polynomials, from which we can compute both error bits and original codeword values.\n",
    "\n",
    "This is an attempt to make sense of all this theory and see the bigger picture with underlying principles. Hopefully it's gonna make more sense as we go. Luckily, once the tools are understood and developed here, they can be used for Reed-Solomon codes as well.\n",
    "\n",
    "### DFT\n",
    "Let's start with DFT of a vector of length $n$ over any finite field with $\\alpha$ such that $\\alpha^n = 1$ (nth primitive root of unity, i.e. smallest such $n$). \n",
    "\n",
    "Note that this definition includes inverse DFT, which doesn't seem to work if the vector length is divisible by field characteristic, e.g. for standard $GF(2^m)$ fields we'll need the length to be odd. But $n$ being the smallest integer s.t. $\\alpha^n = 1$ means that $n | q - 1$ (field order) so it should always work."
   ]
  },
  {
   "cell_type": "code",
   "execution_count": 32,
   "id": "9b3d9945-52a6-40b7-abf9-6bf8fc262190",
   "metadata": {},
   "outputs": [],
   "source": [
    "# polynomial over given field\n",
    "# alpha: primitive root of the field\n",
    "def dft(polynomial, alpha, field):\n",
    "    result = []\n",
    "    \n",
    "    for k in range(len(polynomial)):\n",
    "        # DFT(polynomial)_k = polynomial(alpha^k)\n",
    "        # could also be optimized by reusing powers of alpha^k but it's not that important\n",
    "        alpha_k = field.pow(alpha, k)\n",
    "        poly_value = reduce(lambda x, y: field.add(x, y), [field.mult(c_i, field.pow(alpha_k, i)) for i, c_i in enumerate(polynomial)])\n",
    "        result.append(poly_value)\n",
    "\n",
    "    return result\n",
    "\n",
    "\n",
    "def idft(polynomial, alpha, field):\n",
    "    # IDFT(polynomial)_k = (1 / n) DFT(polynomial)(alpha^{-k})\n",
    "    poly_d = dft(polynomial, field.mult_inv(alpha), field)\n",
    "    n_inv = field.mult_inv(reduce(lambda x, y: field.add(x, y), [1] * len(polynomial)))  # only exists for n not divisble by field characteristic\n",
    "    return [field.mult(n_inv, pd_i) for pd_i in poly_d]"
   ]
  },
  {
   "cell_type": "markdown",
   "id": "b702bffc-9500-473c-b4fd-c1623b7cb772",
   "metadata": {},
   "source": [
    "Let's veryify with the book - example 9.2."
   ]
  },
  {
   "cell_type": "code",
   "execution_count": 33,
   "id": "2ca07478-14b9-456f-bdba-89760c4d38fc",
   "metadata": {},
   "outputs": [],
   "source": [
    "alpha_f_16 = f_16_prim_pow.power_to_num[1]\n",
    "\n",
    "v = [0, 0, f_16_prim_pow.power_to_num[2], 0, 0, 0, 0, f_16_prim_pow.power_to_num[7], 0, 0, 0, 0, 0, 0, 0]\n",
    "v_d = dft(v, alpha_f_16, f_16_prim_pow)\n",
    "\n",
    "polynomial_s = []\n",
    "for i, v_di in enumerate(v_d):\n",
    "    r = ''\n",
    "    if v_di == 0:\n",
    "        r = v_di\n",
    "    else:\n",
    "        power = f_16_prim_pow.num_to_power[v_di]\n",
    "        if power == 0:\n",
    "            r = '1'\n",
    "        else:\n",
    "            r = f'a^{power}' if power != 1 else 'a'\n",
    "    polynomial_s.append(r)\n",
    "assert polynomial_s == ['a^12', 'a^9', 0, 'a^3', '1', 0, 'a^9', 'a^6', 0, '1', 'a^12', 0, 'a^6', 'a^3', 0]\n",
    "\n",
    "assert idft(v_d, alpha_f_16, f_16_prim_pow) == v"
   ]
  },
  {
   "cell_type": "markdown",
   "id": "281e2dd4-a0a5-43a1-b365-27e3c6accd65",
   "metadata": {},
   "source": [
    "Cool!\n",
    "\n",
    "### Key equation and all the polynomials\n",
    "For a given vector $V = (V_0, ..., V_{n - 1})$ over the field $F$ we define a bunch of stuff.\n",
    "\n",
    "**support set I** - all indexes $i \\in \\{0, ..., n - 1\\}$ where $V_i \\neq 0$\n",
    "\n",
    "**locator polynomial** $\\sigma_V(x) = \\prod_{i \\in I} (1 - \\alpha^i x)$\n",
    "\n",
    "**punctured locator polynomial** $\\sigma_V^{(j)}(x) = \\prod_{i \\in I, \\ i \\neq j} (1 - \\alpha^i x)$\n",
    "\n",
    "**error evaluator polynomial** $w_V(x) = \\sum_{i \\in I} V_i \\sigma_V^{(i)}(x)$\n",
    "\n",
    "So beautiful, eh? I mean, they have some properties that make sense, like $\\sigma_V(x) = 0 \\iff x = \\alpha^{-i}, \\ i \\in I$ and $w_V(x)$ kinda resembles Lagrange interpolation. But I still have no idea where this is going.\n",
    "\n",
    "And the **key equation** doesn't help much at first sight:\n",
    "$$\n",
    "\\sigma(x) \\hat{V}(x) = w_V(x) (1 - x^n)\n",
    "$$\n",
    "\n",
    "It's actually quite simple to prove it! And maybe the **1st corollary** helps a bit, we can express initial vector's coefficients using these polynomials:\n",
    "$$\n",
    "V_i = - \\alpha^i \\frac{w_V(\\alpha^{-i})}{\\sigma_V '(\\alpha^{-i})}, \\ i \\in I\n",
    "$$\n",
    "We use a formal derivative (defined for polynomials over any field, e.g. $(x^4)' := 4 x^3$, where $4 = 1 + 1 + 1 +1$) because it wasn't fun enough already. Or rather because key equation for $\\alpha^i, \\ i \\in I$ zeroes on both sides, but we can take a formal derivative and get a useful result.\n",
    "\n",
    "**2nd corollary** is that if $\\sigma_V(x) = 1 + \\sigma_1 x + ... + \\sigma_d x^d$ then\n",
    "$$\n",
    "\\hat{V}_j = - \\sum_{i = 1}^d \\sigma_i \\hat{V}_{j - i}, \\  j = 0, ..., n - 1\n",
    "$$\n",
    "where the indexes are taken $(mod \\ n)$. So this means that if we have the locator polynomial $\\sigma_V(x)$ and just $d$ subsequent DFT coefficients, we can recover all the DFT coefficients - interesting..."
   ]
  },
  {
   "cell_type": "code",
   "execution_count": null,
   "id": "15dd6f8e-8b75-4e99-94df-ff67e707da75",
   "metadata": {},
   "outputs": [],
   "source": []
  },
  {
   "cell_type": "markdown",
   "id": "9366878b-ad3d-4e9a-9c44-7b0df350b8db",
   "metadata": {},
   "source": [
    "# TODO:\n",
    " - read how to decode these bastards (with error correction of course!) + implement decoder derivation (time & frequency domain, WTF)\n",
    " - move this shit elsewhere - this are not RDS fundamentals anymore!"
   ]
  },
  {
   "cell_type": "code",
   "execution_count": null,
   "id": "882a09ee-b4a7-4ccb-8392-c849775dd49c",
   "metadata": {},
   "outputs": [],
   "source": []
  }
 ],
 "metadata": {
  "kernelspec": {
   "display_name": "Python 3 (ipykernel)",
   "language": "python",
   "name": "python3"
  },
  "language_info": {
   "codemirror_mode": {
    "name": "ipython",
    "version": 3
   },
   "file_extension": ".py",
   "mimetype": "text/x-python",
   "name": "python",
   "nbconvert_exporter": "python",
   "pygments_lexer": "ipython3",
   "version": "3.10.12"
  }
 },
 "nbformat": 4,
 "nbformat_minor": 5
}
