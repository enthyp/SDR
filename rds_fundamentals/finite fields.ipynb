{
 "cells": [
  {
   "cell_type": "code",
   "execution_count": 1,
   "id": "baaaa448-1c23-4143-a233-08b4f2cefc90",
   "metadata": {},
   "outputs": [],
   "source": [
    "from abc import ABC, abstractmethod\n",
    "from itertools import zip_longest"
   ]
  },
  {
   "cell_type": "markdown",
   "id": "bce6c433-1459-4e57-85cc-3401de80d357",
   "metadata": {},
   "source": [
    "# Fields\n",
    "Field: we have a set, two operations (\"addition\" and \"multiplication\") and this is a commutative group w.r.t. both operations, plus multiplication distributes over addition."
   ]
  },
  {
   "cell_type": "markdown",
   "id": "c4dba73b-2e6e-46a7-a93c-faba8e099cb3",
   "metadata": {},
   "source": [
    "### $F_p$ for $p \\in \\mathbb{P}$\n",
    "Basic example of a finite field is $\\mathbb{Z} / p \\mathbb{Z}$, i.e. integers modulo a prime number $p$. "
   ]
  },
  {
   "cell_type": "code",
   "execution_count": 2,
   "id": "7ddd6bc5-5c9c-40d0-896b-e00b0d29b1c2",
   "metadata": {},
   "outputs": [],
   "source": [
    "# full definition would include 0 and 1 (neutral elements), but in our considerations they will be literally 0 and 1\n",
    "class FieldOps(ABC):\n",
    "    @abstractmethod\n",
    "    def add(self, a, b):\n",
    "        pass\n",
    "\n",
    "    @abstractmethod\n",
    "    def add_inv(self, a):\n",
    "        pass\n",
    "\n",
    "    def subtract(self, a, b):\n",
    "        return self.add(a, self.add_inv(b))\n",
    "    \n",
    "    @abstractmethod\n",
    "    def mult(self, a, b):\n",
    "        pass\n",
    "\n",
    "    @abstractmethod\n",
    "    def mult_inv(self, a):\n",
    "        pass"
   ]
  },
  {
   "cell_type": "markdown",
   "id": "b6a24eae-a325-4f6d-8ff3-d34dfaac39bc",
   "metadata": {},
   "source": [
    "Bezout's identity says that $gcd(a, b) = a s + b t$ for some $s, t \\in \\mathbb{Z}$, so if they are coprime (e.g. $a \\in \\mathbb{P}$ and $b \\in \\{1, ..., a - 1 \\}$), then $b t = 1 \\ (mod \\ p)$, so $n$ is the inverse. Extended Euclidean algorithm is used to find Bezout's coefficients and hence the inverse. \n",
    "\n",
    "For example:\n",
    " - $240 - 5 * 46 = 10$\n",
    " - $46 - 4 * 10 = 6$\n",
    " - $10 - 1 * 6 = 4$\n",
    " - $6 - 1 * 4 = 2$\n",
    " - $4 - 2 * 2 = 0$ (hence $gcd(240, 46) = 2$ because that's the last non-zero remainder)\n",
    " \n",
    "We can start from the GCD and \"go back\" using division equations to present it as in Bezout's identity:\n",
    "\n",
    "$$\n",
    "\\begin{align}\n",
    "2 & = 6 - 1 * 4 = 6 - (10 - 6) = 2 * 6 - 10 \\\\& = 2 * (46 - 4 * 10) - 10 = 2 * 46 - 9 * 10 \\\\& = 2 * 46 - 9 * (240 - 5 * 46) = 47 * 46 - 9 * 240\n",
    "\\end{align}\n",
    "$$\n",
    "\n",
    "Luckily, [the real extended Euclidean algorithm](https://en.wikipedia.org/wiki/Extended_Euclidean_algorithm) is smarter than this and doesn't include this going back."
   ]
  },
  {
   "cell_type": "code",
   "execution_count": 3,
   "id": "5f699c0e-3f5e-4bb8-b010-63e711beea9f",
   "metadata": {},
   "outputs": [],
   "source": [
    "def ext_euclidean(a, b):\n",
    "    # a > b\n",
    "    # r_{i - 1}, r_i starting from i = 1\n",
    "    r_i_m_1, r_i = a, b\n",
    "\n",
    "    # a * s_i + b * t_i = r_i for all i, definition of s_i and t_i so smart! \n",
    "    s_i_m_1, t_i_m_1 = 1, 0\n",
    "    s_i, t_i = 0, 1  \n",
    "\n",
    "    while r_i != 0:\n",
    "        # r_{i + 1} = r_{i - 1} - q_i * r_i\n",
    "        r_i_p_1 = r_i_m_1 % r_i\n",
    "        q_i = r_i_m_1 // r_i\n",
    "        \n",
    "        s_i_p_1 = s_i_m_1 - q_i * s_i\n",
    "        t_i_p_1 = t_i_m_1 - q_i * t_i\n",
    "\n",
    "        r_i_m_1, r_i = r_i, r_i_p_1\n",
    "        s_i_m_1, s_i = s_i, s_i_p_1\n",
    "        t_i_m_1, t_i = t_i, t_i_p_1\n",
    "\n",
    "    return r_i_m_1, s_i_m_1, t_i_m_1"
   ]
  },
  {
   "cell_type": "code",
   "execution_count": 4,
   "id": "94ddf27d-f59c-4f56-b628-e35503f71807",
   "metadata": {},
   "outputs": [
    {
     "name": "stdout",
     "output_type": "stream",
     "text": [
      "(2, -9, 47)\n"
     ]
    }
   ],
   "source": [
    "gcd, s, t = ext_euclidean(240, 46)\n",
    "assert 240 * s + 46 * t == gcd\n",
    "print((gcd, s, t))"
   ]
  },
  {
   "cell_type": "code",
   "execution_count": 5,
   "id": "69f5146a-ec78-418d-83f5-bdbd69e62325",
   "metadata": {},
   "outputs": [],
   "source": [
    "def ff_for_prime(p):\n",
    "    class Ops(FieldOps):\n",
    "        def add(self, a, b):\n",
    "            return (a + b) % p\n",
    "\n",
    "        def add_inv(self, a):\n",
    "            return (-a) % p\n",
    "\n",
    "        def mult(self, a, b):\n",
    "            return (a * b) % p\n",
    "\n",
    "        def mult_inv(self, a):\n",
    "            _, _, inv = ext_euclidean(p, a)\n",
    "            return inv\n",
    "\n",
    "    return Ops()"
   ]
  },
  {
   "cell_type": "code",
   "execution_count": 6,
   "id": "d2d2a8a8-144d-4757-823c-3260013e123f",
   "metadata": {},
   "outputs": [],
   "source": [
    "f_31 = ff_for_prime(31)\n",
    "\n",
    "for i in range(1, 31):\n",
    "    assert f_31.mult(i, f_31.mult_inv(i)) == 1"
   ]
  },
  {
   "cell_type": "markdown",
   "id": "eba16a2f-884c-4de9-bf0d-098f09ffd02c",
   "metadata": {},
   "source": [
    "### Extension to $F_{p^m}$ for $p \\in \\mathbb{P}$\n",
    "For ease of use, we will still represent field elements by numbers in $\\{0, ..., p^m - 1\\}$, but operations on them will no longer be ordinary $(mod \\ p)$ operations. Each number can be viewed as its $m$-length representation in base $p$, i.e. $x = a_{m - 1} p^{m - 1} + ... + a_0 p^0$. This vector $(a_{m-1}, ..., a_0)$ can in turn be viewed as  coefficients of a polynomial of degree $\\lt m$ over the base field $F_p$. So really the elements of the field will be these polynomials, it's just nicer to represent them as numbers and define new addition and multiplication tables for them.\n",
    "\n",
    "Then we take an irreducible polynomial $p(x)$ over $F_p$ (i.e. it cannot be factorized using coefficients in this field) of degree $m$ and define all operations as polynomial operations $(mod \\ p(x))$ - and that's it! Existence of multiplicative inverse is satisfied by using extended Euclidean algorithm again. Importantly, such polynomials exist for all pairs of prime $p$ and $m$."
   ]
  },
  {
   "cell_type": "code",
   "execution_count": 7,
   "id": "903b8282-e09e-4bcc-8bfd-b6f58fb94f64",
   "metadata": {},
   "outputs": [],
   "source": [
    "# a, b: lists of coefficients in given finite field [c_0, ..., c_k], c_k != 0\n",
    "def add_poly(a, b, field):\n",
    "    zipped = zip_longest(a, b, fillvalue=0)  # again, 0 is zero\n",
    "    return [field.add(a, b) for (a, b) in zipped]\n",
    "\n",
    "\n",
    "def subtract_poly(a, b, field):\n",
    "    zipped = zip_longest(a, b, fillvalue=0)  # again, 0 is zero\n",
    "    return [field.subtract(a, b) for (a, b) in zipped]\n",
    "\n",
    "\n",
    "def mult_poly(a, b, field):\n",
    "    deg_a, deg_b = len(a) - 1, len(b) - 1\n",
    "    result = [0] * (deg_a + deg_b + 1)  # using the fact that number zero actually represents zero in all our finite fields\n",
    "\n",
    "    for i in range(deg_a + 1):\n",
    "        for j in range(deg_b + 1):\n",
    "            coef = field.mult(a[i], b[j])\n",
    "            position = i + j\n",
    "            result[position] = field.add(result[position], coef)\n",
    "\n",
    "    return result\n",
    "\n",
    "\n",
    "def div_poly(a, b, field):\n",
    "    # careful - highest degree coefficient must be non-zero\n",
    "    deg_a, deg_b = len(a) - 1, len(b) - 1    \n",
    "    quotient, remainder = [], a.copy()\n",
    "\n",
    "    # required to divide a's coefficients by b's highest coefficient\n",
    "    # division always works, because it's a field\n",
    "    b_coef_inv = field.mult_inv(b[-1])\n",
    "\n",
    "    for i in range(deg_a - deg_b + 1):\n",
    "        multiplier = field.mult(remainder[-(i + 1)], b_coef_inv)\n",
    "        quotient.append(multiplier)  # needs to be reversed at the end\n",
    "\n",
    "        for j in range(deg_b + 1):\n",
    "            coef = field.mult(multiplier, b[deg_b - j])\n",
    "            remainder[-(i + 1) - j] = field.subtract(remainder[-(i + 1) - j], coef)\n",
    "\n",
    "    # remove trailing zeros from remainder (crucial for extended Euclidean algorithm to work\n",
    "    # since we pass it to div_poly again)\n",
    "    non_zero_indexes = [i for i, r_i in enumerate(remainder) if r_i != 0]\n",
    "    return quotient[::-1] if quotient else [0], remainder[:non_zero_indexes[-1] + 1] if non_zero_indexes else [0]"
   ]
  },
  {
   "cell_type": "code",
   "execution_count": 8,
   "id": "cd967c31-8c94-4fcc-85c8-72b659e41fef",
   "metadata": {},
   "outputs": [],
   "source": [
    "f_2 = ff_for_prime(2)\n",
    "\n",
    "# (x + 1)^2 = x^2 + 1  // Freshman's dream <3\n",
    "assert mult_poly([1, 1], [1, 1], f_2) == [1, 0, 1]\n",
    "\n",
    "# x^2 + x + 1 = x * (x + 1) + 1\n",
    "assert div_poly([1, 1, 1], [1, 1], f_2) == ([0, 1], [1])"
   ]
  },
  {
   "cell_type": "code",
   "execution_count": 9,
   "id": "f8b607f1-e9aa-4af4-85b6-34560d2ec723",
   "metadata": {},
   "outputs": [],
   "source": [
    "def ext_euclidean_poly(a, b, field):\n",
    "    deg_a, deg_b = len(a) - 1, len(b) - 1\n",
    "    assert deg_a > deg_b\n",
    "    # r_{i - 1}, r_i starting from i = 1\n",
    "    r_i_m_1, r_i = a, b\n",
    "\n",
    "    # a * s_i + b * t_i = r_i for all i\n",
    "    # again, using the fact that 0 and 1 represent neutral elements of our finite fields!\n",
    "    s_i_m_1, t_i_m_1 = [1], [0]\n",
    "    s_i, t_i = [0], [1]\n",
    "\n",
    "    # iterate until we get a pair where one polynomials divides the other\n",
    "    while any(element != 0 for element in r_i):\n",
    "        # r_{i + 1} = r_{i - 1} - q_i * r_i\n",
    "        q_i, r_i_p_1 = div_poly(r_i_m_1, r_i, field)\n",
    "\n",
    "        s_i_p_1 = subtract_poly(s_i_m_1, mult_poly(q_i, s_i, field), field)\n",
    "        t_i_p_1 = subtract_poly(t_i_m_1, mult_poly(q_i, t_i, field), field)\n",
    "        \n",
    "        r_i_m_1, r_i = r_i, r_i_p_1\n",
    "        s_i_m_1, s_i = s_i, s_i_p_1\n",
    "        t_i_m_1, t_i = t_i, t_i_p_1\n",
    "\n",
    "    return r_i_m_1, s_i_m_1, t_i_m_1  # TODO: might need to eliminate trailing zeroes"
   ]
  },
  {
   "cell_type": "code",
   "execution_count": 10,
   "id": "c669ae26-d916-44da-bf62-ca9c61462e7e",
   "metadata": {},
   "outputs": [],
   "source": [
    "# following https://en.wikipedia.org/wiki/Extended_Euclidean_algorithm\n",
    "# a = x^8 + x^4 + x^3 + x + 1\n",
    "# b = x^6 + x^4 + x + 1\n",
    "# a * (x^5 + x^4 + x^3 + x^2 + 1) * a + (x7 + x6 + x3 + x) * b = 1\n",
    "assert ext_euclidean_poly([1, 1, 0, 1, 1, 0, 0, 0, 1], [1, 1, 0, 0, 1, 0, 1], f_2) == (\n",
    "    [1], [1, 0, 1, 1, 1, 1, 0, 0], [0, 1, 0, 1, 0, 0, 1, 1]\n",
    ")"
   ]
  },
  {
   "cell_type": "markdown",
   "id": "0250a58e-c31c-46e6-9869-3515940d142e",
   "metadata": {},
   "source": [
    "That works."
   ]
  },
  {
   "cell_type": "code",
   "execution_count": 11,
   "id": "b417f3aa-4c4f-4888-b6f1-f59ec10910a9",
   "metadata": {},
   "outputs": [],
   "source": [
    "def base_repr(n, base):\n",
    "    r = []\n",
    "\n",
    "    while n != 0:\n",
    "        r.append(n % base)\n",
    "        n //= base\n",
    "\n",
    "    return r\n",
    "\n",
    "\n",
    "def base_val(seq, base):\n",
    "    return sum(s * base ** i for i, s in enumerate(seq))"
   ]
  },
  {
   "cell_type": "code",
   "execution_count": 12,
   "id": "b2388112-806f-444f-9d1b-c94e980a5f3e",
   "metadata": {},
   "outputs": [],
   "source": [
    "# p: order of the base field\n",
    "# field: operations on elements of the base field (represented as numbers 0, ..., p - 1)\n",
    "# irr_p: list of irreducible polynomial coefficients, [p_0, ..., p_m]\n",
    "def ff_for_irreducible_polynomial(p, field, irr_p):\n",
    "    # number to polynomial\n",
    "    def n2p(n):\n",
    "        poly = base_repr(n, p)\n",
    "        assert len(poly) < len(irr_p), f'{n} is too large for a correct representation of this field\\'s element!'\n",
    "        return poly\n",
    "\n",
    "\n",
    "    # polynomial to number\n",
    "    def p2n(poly):\n",
    "        return base_val(poly, p)\n",
    "        \n",
    "    \n",
    "    class Ops(FieldOps):\n",
    "        def add(self, a, b):\n",
    "            a_p, b_p = n2p(a), n2p(b)\n",
    "            return p2n(add_poly(a_p, b_p, field))\n",
    "\n",
    "        def add_inv(self, a):\n",
    "            a_p = n2p(a)\n",
    "            return p2n([field.add_inv(a_i) for a_i in a_p])\n",
    "\n",
    "        def mult(self, a, b):\n",
    "            a_p, b_p = n2p(a), n2p(b)\n",
    "            ab_p = mult_poly(a_p, b_p, field)\n",
    "            q, rem = div_poly(ab_p, irr_p, field)\n",
    "            return p2n(rem)\n",
    "\n",
    "        def mult_inv(self, a):\n",
    "            _, _, inv = ext_euclidean_poly(irr_p, n2p(a), field)\n",
    "            return p2n(inv)\n",
    "\n",
    "    return Ops()"
   ]
  },
  {
   "cell_type": "code",
   "execution_count": 13,
   "id": "6fdd0801-5be0-44bd-a725-480462fec859",
   "metadata": {},
   "outputs": [],
   "source": [
    "# x^4 + x + 1 is irreducible over F_2 - appendix C\n",
    "\n",
    "# let's add 1101 and 0111, i.e. 11 and 14 - should produce 1010, i.e. 5\n",
    "f_16 = ff_for_irreducible_polynomial(2, f_2, [1, 1, 0, 0, 1])\n",
    "assert f_16.add(11, 14) == 5\n",
    "\n",
    "# now let's multiply them - should produce 0001, i.e. 8 (AWESOME tool to verify: http://www.ee.unb.ca/cgi-bin/tervo/galois3.pl?p=4)\n",
    "assert f_16.mult(11, 14) == 8"
   ]
  },
  {
   "cell_type": "markdown",
   "id": "791f3272-2360-4081-b45b-c4c3fa391ce3",
   "metadata": {},
   "source": [
    "Let us also test the whole multiplication table, as correctness is quite important here."
   ]
  },
  {
   "cell_type": "code",
   "execution_count": 14,
   "id": "194af67b-b376-4a01-9a91-b05021419913",
   "metadata": {},
   "outputs": [],
   "source": [
    "def mult_table(q, field):\n",
    "    table = [[0] * q for _ in range(q)]\n",
    "    \n",
    "    for a in range(q):\n",
    "        for b in range(q):\n",
    "            table[a][b] = field.mult(a, b)\n",
    "    return table\n",
    "\n",
    "\n",
    "# http://www.ee.unb.ca/cgi-bin/tervo/galois3.pl?p=4 strikes again!\n",
    "# reference string can be copied directly from the Web page, starting with 'x'\n",
    "def mult_table_from_ref(ref_str):\n",
    "    ref_mult_table = [[0] * 16 for _ in range(16)]\n",
    "    ref_mult_table_str_elements = ref_mult_table_str.split()\n",
    "    for i in range(16):\n",
    "        for j in range(16):\n",
    "            # ignore 1st row and column\n",
    "            if i != 0 and j != 0:\n",
    "                ref_mult_table[i][j] = int(ref_mult_table_str_elements[16 * i + j])\n",
    "    return ref_mult_table\n",
    "\n",
    "\n",
    "ref_mult_table_str = \"\"\"\n",
    "x\t1 \t2 \t3 \t4 \t5 \t6 \t7 \t8 \t9 \t10 \t11 \t12 \t13 \t14 \t15\n",
    "1\t1\t2\t3\t4\t5\t6\t7\t8\t9\t10\t11\t12\t13\t14\t15\n",
    "2\t2\t4\t6\t8\t10\t12\t14\t3\t1\t7\t5\t11\t9\t15\t13\n",
    "3\t3\t6\t5\t12\t15\t10\t9\t11\t8\t13\t14\t7\t4\t1\t2\n",
    "4\t4\t8\t12\t3\t7\t11\t15\t6\t2\t14\t10\t5\t1\t13\t9\n",
    "5\t5\t10\t15\t7\t2\t13\t8\t14\t11\t4\t1\t9\t12\t3\t6\n",
    "6\t6\t12\t10\t11\t13\t7\t1\t5\t3\t9\t15\t14\t8\t2\t4\n",
    "7\t7\t14\t9\t15\t8\t1\t6\t13\t10\t3\t4\t2\t5\t12\t11\n",
    "8\t8\t3\t11\t6\t14\t5\t13\t12\t4\t15\t7\t10\t2\t9\t1\n",
    "9\t9\t1\t8\t2\t11\t3\t10\t4\t13\t5\t12\t6\t15\t7\t14\n",
    "10\t10\t7\t13\t14\t4\t9\t3\t15\t5\t8\t2\t1\t11\t6\t12\n",
    "11\t11\t5\t14\t10\t1\t15\t4\t7\t12\t2\t9\t13\t6\t8\t3\n",
    "12\t12\t11\t7\t5\t9\t14\t2\t10\t6\t1\t13\t15\t3\t4\t8\n",
    "13\t13\t9\t4\t1\t12\t8\t5\t2\t15\t11\t6\t3\t14\t10\t7\n",
    "14\t14\t15\t1\t13\t3\t2\t12\t9\t7\t6\t8\t4\t10\t11\t5\n",
    "15\t15\t13\t2\t9\t6\t4\t11\t1\t14\t12\t3\t8\t7\t5\t10\"\"\"\n",
    "\n",
    "\n",
    "\n",
    "assert mult_table(16, f_16) == mult_table_from_ref(ref_mult_table_str)"
   ]
  },
  {
   "cell_type": "markdown",
   "id": "aaa383bc-8cfd-48ab-b677-e46f846276a5",
   "metadata": {},
   "source": [
    "Yeah! It's so nice that the reference website also represents polynomials with numbers the way we do - appendix C maps polynomials using powers of a primitive element.\n",
    "\n",
    "As a final test let's see if multiplicative inverses work."
   ]
  },
  {
   "cell_type": "code",
   "execution_count": 15,
   "id": "cf756b52-79fb-4511-8f9c-4187c2b3094c",
   "metadata": {},
   "outputs": [],
   "source": [
    "for i in range(1, 16):\n",
    "    assert f_16.mult(i, f_16.mult_inv(i)) == 1"
   ]
  },
  {
   "cell_type": "markdown",
   "id": "4075a6ce-44f2-4917-b71b-310dc68e90e1",
   "metadata": {},
   "source": [
    "Niiiice.\n",
    "\n",
    "This construction works if we replace $F_p$ by any finite field actually, so we can use the field of polynomials as base and then extend it. Therefore if we have a finite field $F_{q^m}$ and $n = m \\ k$ for some $k$, then we can build $F_{q^n}$ from $k$-degree polynomials with coefficients in $F_{q^m}$. $F_{q^m}$ is then a *subfield* of $F_{q^n}$ if we consider operations on just 0-degree polynomials. Looking at the multiplication table of $F_{q^n}$ it's just gonna be a subset where multiplication works fine.\n",
    "\n",
    "Another fun fact is that all finite fields have orders of form $q = p^m, \\ p \\in \\mathbb{P}$ and all finite fields of given order are isomorphic. Hence they get a special name and notation - Galois fields $GF(q)$ (after their discoverer)."
   ]
  },
  {
   "cell_type": "markdown",
   "id": "34324a6e-ed5f-45ac-ba03-a3e531640ed2",
   "metadata": {},
   "source": [
    "### Primitive polynomials\n",
    "**Minimal polynomial** $f(x)$ of element $\\alpha \\in F_{q^m}$ - monic (highest power coefficient = 1) polynomial with coefficients in $F_q$ of the lowest degree s.t. $f(\\alpha) = 0$ (the multiplication of $\\alpha \\in F_{q^m}$ by coefficients in $F_q$ works because $F_q$ is a subfield of $F_{q^m}$).\n",
    "\n",
    "**Primitive root $\\alpha$** - generator of multiplicative group of non-zero elements of $F_q$, i.e. $\\forall_{x \\in F_q, \\ x \\neq 0} \\ \\exists_{k \\in \\mathbb{N}}: \\ x = \\alpha^k$.\n",
    "\n",
    "Minimal polynomial of a primitive root $\\alpha$ (lowest degree monic polynomial with coefficients in the subfield which vanishes at $\\alpha$) is called the **primitive polynomial**.\n",
    "\n",
    "#### Derivation of a finite field from primitive polynomial\n",
    "Let's say we have a primitive polynomial over $F_2$, e.g. $x^4 + x + 1$ - it's irreducible over $F_2$ and it's known to vanish at the primitive root $\\alpha$ of $F_{16}$. Then we can use the equation $\\alpha^4 = \\alpha + 1$ to represent $\\{1, \\alpha, ..., \\alpha^{14} \\}$ as polynomials of degree $\\leq 3$ (because $\\alpha^4$ reduces to $\\alpha + 1$ again). There are 15 such non-zero polynomials and their coefficients correspond to binary sequences 0001, ..., 1111. Hence we have a mapping between numbers 1, ..., 15 (sequences 0001, ..., 1111) and the non-zero field elements. \n",
    "\n",
    "For example:\n",
    "$$\\alpha^7 = \\alpha^3 \\alpha^4 = \\alpha^3 (\\alpha + 1) = \\alpha^3 + \\alpha + 1$$\n",
    "so it corresponds to 1011 binary sequence, or\n",
    "$$\\alpha^{10} = (\\alpha^4)^2 \\alpha^2 = (\\alpha + 1)^2 \\alpha^2 = (\\alpha^2 + 1) \\alpha^2 = \\alpha^2 + \\alpha + 1$$\n",
    "so it corresponds to 0111 binary sequence. \n",
    "\n",
    "This representation has a huge computational advantage over our previous mapping from binary sequences directly to polynomials in the Galois construction. Namely, with this lookup table multiplication doesn't require polynomial multiplication anymore but comes down to simple addition, e.g. \n",
    "$$1011 * 0111 = \\alpha^7 \\alpha^{10} = \\alpha^{17} = \\alpha^2 = 0100$$\n",
    "by using the fact that $\\alpha$ is the generator with period 15. Addition works like before, i.e. bitwise XOR. Fucking amazing actually.\n",
    "\n",
    "#### Automated derivation\n",
    "It should be fairly easy to automate this procedure by repeatedly reducing the highest power (although it's not very efficient), e.g.\n",
    "$$\n",
    "\\begin{align}\n",
    "\\alpha^{10} &= \\alpha^4 \\alpha^6 = (\\alpha + 1) \\alpha^6 = \\alpha^7 + \\alpha^6 = (\\alpha + 1) \\alpha^3 + \\alpha^6 \\\\&= \n",
    "\\alpha^6 + \\alpha^4 + \\alpha^3 = (\\alpha + 1) \\alpha^2 + \\alpha^4 + \\alpha^3 \\\\&=\n",
    "\\alpha^4 + \\alpha^2 = \\alpha^2 + \\alpha + 1 \n",
    "\\end{align}\n",
    "$$\n"
   ]
  },
  {
   "cell_type": "code",
   "execution_count": 16,
   "id": "58b14150-151e-42d8-b4cf-c1cd346b4e9c",
   "metadata": {},
   "outputs": [],
   "source": [
    "# q: order of the base field\n",
    "# field: operations on elements of the base field (represented as numbers 0, ..., q - 1)\n",
    "# prim_p: list of primitive polynomial coefficients [p_0, ..., p_m]\n",
    "def ff_for_primitive_polynomial(q, field, prim_p):\n",
    "    # number to polynomial\n",
    "    def n2p(n):\n",
    "        poly = base_repr(n, q)\n",
    "        assert len(poly) < len(prim_p), f'{n} is too large for a correct representation of this field\\'s element!'\n",
    "        return poly\n",
    "\n",
    "\n",
    "    # polynomial to number\n",
    "    def p2n(poly):\n",
    "        return base_val(poly, q)\n",
    "        \n",
    "    \n",
    "    def remove_trailing_zeroes(poly):\n",
    "        for i in range(len(poly) - 1, -1, -1):\n",
    "            if poly[i] != 0:\n",
    "                return poly[:i + 1]\n",
    "        return [0]\n",
    "\n",
    "    deg_prim_p = len(prim_p) - 1\n",
    "    \n",
    "    # find what polynomial of degree < deg_prim_p can replace alpha^{deg_prim_p} by using the primitive polynomial\n",
    "    rhs_replacement = remove_trailing_zeroes([field.add_inv(p_i) for p_i in prim_p[:-1]])\n",
    "\n",
    "    # let's build the lookup tables q-ary sequences (numbers) <-> primitive root powers\n",
    "    num_to_power, power_to_num = {}, {}\n",
    "    \n",
    "    for power in range(q ** deg_prim_p - 1):\n",
    "        poly = [0] * power + [1]\n",
    "        \n",
    "        while len(poly) > deg_prim_p:\n",
    "            # use rhs_replacement to reduce degree of poly by rewriting the highest power\n",
    "            hp = len(poly) - 1\n",
    "\n",
    "            # multiply (p_{hp - deg_prim_p} * alpha^{hp - deg_prim_p}) by the RHS\n",
    "            replacement = mult_poly([0] * (hp - deg_prim_p) + [poly[hp]], rhs_replacement, field)\n",
    "\n",
    "            poly = add_poly(poly, replacement, field)\n",
    "            poly[hp] = 0\n",
    "            \n",
    "            # ensure poly's getting shorter each iteration\n",
    "            poly = remove_trailing_zeroes(poly)\n",
    "\n",
    "        num = p2n(poly)\n",
    "        num_to_power[num] = power\n",
    "        power_to_num[power] = num\n",
    "\n",
    "     # num_to_power maps all non-zero field elements\n",
    "    mult_period = len(num_to_power)\n",
    "    \n",
    "    class Ops(FieldOps):\n",
    "        def __init__(self):\n",
    "            # let's add this class property so that we can verify with the table in Appendix C\n",
    "            self.power_to_num = power_to_num\n",
    "\n",
    "        def add(self, a, b):\n",
    "            a_p, b_p = n2p(a), n2p(b)\n",
    "            return p2n(add_poly(a_p, b_p, field))\n",
    "\n",
    "        def add_inv(self, a):\n",
    "            a_p = n2p(a)\n",
    "            return p2n([field.add_inv(a_i) for a_i in a_p])\n",
    "\n",
    "        def mult(self, a, b):\n",
    "            pow_a, pow_b = num_to_power[a], num_to_power[b]\n",
    "            pow_ab = (pow_a + pow_b) % mult_period\n",
    "            return power_to_num[pow_ab]\n",
    "\n",
    "        def mult_inv(self, a):\n",
    "            # no messed up Euclideans this time, yay\n",
    "            pow_a = num_to_power[a]\n",
    "            return power_to_num[(-pow_a) % mult_period]\n",
    "\n",
    "    return Ops()"
   ]
  },
  {
   "cell_type": "markdown",
   "id": "6a8dc6da-7581-406b-8f4b-edf21b0b9cd7",
   "metadata": {},
   "source": [
    "Let's test it using $x^4 + x + 1$ on the field $F_2$ again. This time our representations correspond to Appendix C EXCEPT they are inverted, e.g. my binary sequence 1011 represents $1 + \\alpha + \\alpha^2$, in the book it's the 1101 sequence. We can still use the Appendix to verify our results though - we know that in their representation 1101 multiplied by 0111 produces 0101."
   ]
  },
  {
   "cell_type": "code",
   "execution_count": 17,
   "id": "66476292-36c5-4f35-accb-f5cb18111790",
   "metadata": {},
   "outputs": [],
   "source": [
    "f_16_prim_pow = ff_for_primitive_polynomial(2, f_2, [1, 1, 0, 0, 1])\n",
    "# let's add 1011 and 1110, i.e. 13 and 7 - should produce 0101, i.e. 10\n",
    "assert f_16_prim_pow.add(13, 7) == 10\n",
    "\n",
    "# now let's multiply them - should produce 1010, i.e. 5 according to Appendix C\n",
    "assert f_16_prim_pow.mult(13, 7) == 5\n",
    "\n",
    "# let's also check if multiplicative inverses work correctly\n",
    "for i in range(1, 16):\n",
    "    assert f_16_prim_pow.mult(i, f_16_prim_pow.mult_inv(i)) == 1"
   ]
  },
  {
   "cell_type": "markdown",
   "id": "2f8b2130-0791-49f7-bfc9-c13eab27304a",
   "metadata": {},
   "source": [
    "Awesome! We can also take a look at the mapping power $\\rightarrow$ number and compare it to the table in the book (by hand)."
   ]
  },
  {
   "cell_type": "code",
   "execution_count": 18,
   "id": "1d69e738-3f81-4d7a-852a-4c5fcdd327c7",
   "metadata": {},
   "outputs": [
    {
     "name": "stdout",
     "output_type": "stream",
     "text": [
      " 0:\t1\n",
      " 1:\ta\n",
      " 2:\ta^2\n",
      " 3:\ta^3\n",
      " 4:\ta + 1\n",
      " 5:\ta^2 + a\n",
      " 6:\ta^3 + a^2\n",
      " 7:\ta^3 + a + 1\n",
      " 8:\ta^2 + 1\n",
      " 9:\ta^3 + a\n",
      "10:\ta^2 + a + 1\n",
      "11:\ta^3 + a^2 + a\n",
      "12:\ta^3 + a^2 + a + 1\n",
      "13:\ta^3 + a^2 + 1\n",
      "14:\ta^3 + 1\n"
     ]
    }
   ],
   "source": [
    "for power in sorted(f_16_prim_pow.power_to_num.keys()):\n",
    "    poly = base_repr(f_16_prim_pow.power_to_num[power], 2)\n",
    "    representation = ' + '.join([f'a^{i}' if i > 1 else ('a' if i == 1 else '1') for i, p_i in enumerate(poly) if p_i != 0][::-1])\n",
    "    print(f'{power: >2}:\\t{representation}')"
   ]
  },
  {
   "cell_type": "markdown",
   "id": "46b5f5e2-44f5-4232-b611-2c1fb98fabda",
   "metadata": {},
   "source": [
    "**Fuck. Yeah.** So this implementation should be fairly efficient for addition and multiplication of field elements."
   ]
  },
  {
   "cell_type": "markdown",
   "id": "b89f44df-e2f1-408b-9120-116e079bc0f5",
   "metadata": {},
   "source": [
    "# TODO:\n",
    " - compare performance of both representations? (winner's kinda obvious but may still be interesting for different base field and extension orders etc.)\n",
    " - if this code turns out to be necessary for Reed-Solomon or BCH implementations - move it to a separate repo and package it\n",
    "\n",
    "# Theory TODO:\n",
    " - multiplicative finite field structure - cyclic groups and subgroups, subgroup order divides group order\n",
    " - conjugates of field element - subgroup and its order\n",
    " - minimal polynomial product form\n",
    " - $x^n - 1$ factorization - maybe later when necessary for BCH/RS?\n",
    "\n",
    "That's enooooooooough!"
   ]
  },
  {
   "cell_type": "code",
   "execution_count": null,
   "id": "46e62855-556e-49cc-bd9d-10043f2d1550",
   "metadata": {},
   "outputs": [],
   "source": []
  }
 ],
 "metadata": {
  "kernelspec": {
   "display_name": "Python 3 (ipykernel)",
   "language": "python",
   "name": "python3"
  },
  "language_info": {
   "codemirror_mode": {
    "name": "ipython",
    "version": 3
   },
   "file_extension": ".py",
   "mimetype": "text/x-python",
   "name": "python",
   "nbconvert_exporter": "python",
   "pygments_lexer": "ipython3",
   "version": "3.10.12"
  }
 },
 "nbformat": 4,
 "nbformat_minor": 5
}
